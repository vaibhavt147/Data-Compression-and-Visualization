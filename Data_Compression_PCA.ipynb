{
  "nbformat": 4,
  "nbformat_minor": 0,
  "metadata": {
    "colab": {
      "name": "Data_Compression_PCA.ipynb",
      "provenance": [],
      "authorship_tag": "ABX9TyO0c8T5NgzUEfdpR7WvlRUL",
      "include_colab_link": true
    },
    "kernelspec": {
      "name": "python3",
      "display_name": "Python 3"
    }
  },
  "cells": [
    {
      "cell_type": "markdown",
      "metadata": {
        "id": "view-in-github",
        "colab_type": "text"
      },
      "source": [
        "<a href=\"https://colab.research.google.com/github/vaibhavt147/Data-Compression-and-Visualization/blob/master/Data_Compression_PCA.ipynb\" target=\"_parent\"><img src=\"https://colab.research.google.com/assets/colab-badge.svg\" alt=\"Open In Colab\"/></a>"
      ]
    },
    {
      "cell_type": "markdown",
      "metadata": {
        "id": "YtjcSQyYeWpM",
        "colab_type": "text"
      },
      "source": [
        "### 1. Import Libraries\n",
        "\n",
        "Importing all of the necessary libraries "
      ]
    },
    {
      "cell_type": "code",
      "metadata": {
        "id": "vNvZECOV0xjZ",
        "colab_type": "code",
        "colab": {}
      },
      "source": [
        "import pandas as pd\n",
        "import numpy as np\n",
        "import matplotlib.pyplot as plt\n",
        "import sklearn\n",
        "import matplotlib\n",
        "\n",
        "from sklearn import datasets\n",
        "from pandas.plotting import scatter_matrix\n",
        "from sklearn.cluster import KMeans\n",
        "from sklearn.decomposition import PCA\n",
        "from sklearn import preprocessing\n",
        "from sklearn import metrics"
      ],
      "execution_count": 1,
      "outputs": []
    },
    {
      "cell_type": "markdown",
      "metadata": {
        "id": "CSRiGvbTeid7",
        "colab_type": "text"
      },
      "source": [
        "### 2. Importing and Preprocessing the Iris Dataset\n",
        "\n",
        "Due to it's common usage for pattern recognition tasks, the iris dataset is available directly through scikit-learn.  Furthermore, we will construct a Pandas DataFrame that provides descriptive statistics for the data set, as well as interesting visualizations such as a scatter matrix. "
      ]
    },
    {
      "cell_type": "code",
      "metadata": {
        "id": "GdoU-ogI1FqW",
        "colab_type": "code",
        "colab": {}
      },
      "source": [
        "# Load Dataset\n",
        "iris = datasets.load_iris()\n",
        "features = iris.data\n",
        "target = iris.target\n",
        "\n",
        "# generate Pandas DataFrame\n",
        "df = pd.DataFrame(features)\n",
        "df.columns = iris.feature_names"
      ],
      "execution_count": 2,
      "outputs": []
    },
    {
      "cell_type": "code",
      "metadata": {
        "id": "uETd7vN21IRO",
        "colab_type": "code",
        "colab": {
          "base_uri": "https://localhost:8080/",
          "height": 119
        },
        "outputId": "59c387e3-54c7-439d-cb14-5527b3dc4546"
      },
      "source": [
        "# print target and target names\n",
        "print (target)\n",
        "iris.target_names"
      ],
      "execution_count": 3,
      "outputs": [
        {
          "output_type": "stream",
          "text": [
            "[0 0 0 0 0 0 0 0 0 0 0 0 0 0 0 0 0 0 0 0 0 0 0 0 0 0 0 0 0 0 0 0 0 0 0 0 0\n",
            " 0 0 0 0 0 0 0 0 0 0 0 0 0 1 1 1 1 1 1 1 1 1 1 1 1 1 1 1 1 1 1 1 1 1 1 1 1\n",
            " 1 1 1 1 1 1 1 1 1 1 1 1 1 1 1 1 1 1 1 1 1 1 1 1 1 1 2 2 2 2 2 2 2 2 2 2 2\n",
            " 2 2 2 2 2 2 2 2 2 2 2 2 2 2 2 2 2 2 2 2 2 2 2 2 2 2 2 2 2 2 2 2 2 2 2 2 2\n",
            " 2 2]\n"
          ],
          "name": "stdout"
        },
        {
          "output_type": "execute_result",
          "data": {
            "text/plain": [
              "array(['setosa', 'versicolor', 'virginica'], dtype='<U10')"
            ]
          },
          "metadata": {
            "tags": []
          },
          "execution_count": 3
        }
      ]
    },
    {
      "cell_type": "code",
      "metadata": {
        "id": "sBQODkSc1Jm7",
        "colab_type": "code",
        "colab": {
          "base_uri": "https://localhost:8080/",
          "height": 391
        },
        "outputId": "b0523da8-61b6-4cac-c1d2-111050950081"
      },
      "source": [
        "# print data set information\n",
        "print (df.shape)\n",
        "print (df.head(20))"
      ],
      "execution_count": 4,
      "outputs": [
        {
          "output_type": "stream",
          "text": [
            "(150, 4)\n",
            "    sepal length (cm)  sepal width (cm)  petal length (cm)  petal width (cm)\n",
            "0                 5.1               3.5                1.4               0.2\n",
            "1                 4.9               3.0                1.4               0.2\n",
            "2                 4.7               3.2                1.3               0.2\n",
            "3                 4.6               3.1                1.5               0.2\n",
            "4                 5.0               3.6                1.4               0.2\n",
            "5                 5.4               3.9                1.7               0.4\n",
            "6                 4.6               3.4                1.4               0.3\n",
            "7                 5.0               3.4                1.5               0.2\n",
            "8                 4.4               2.9                1.4               0.2\n",
            "9                 4.9               3.1                1.5               0.1\n",
            "10                5.4               3.7                1.5               0.2\n",
            "11                4.8               3.4                1.6               0.2\n",
            "12                4.8               3.0                1.4               0.1\n",
            "13                4.3               3.0                1.1               0.1\n",
            "14                5.8               4.0                1.2               0.2\n",
            "15                5.7               4.4                1.5               0.4\n",
            "16                5.4               3.9                1.3               0.4\n",
            "17                5.1               3.5                1.4               0.3\n",
            "18                5.7               3.8                1.7               0.3\n",
            "19                5.1               3.8                1.5               0.3\n"
          ],
          "name": "stdout"
        }
      ]
    },
    {
      "cell_type": "code",
      "metadata": {
        "id": "XJeAFDEf1K_d",
        "colab_type": "code",
        "colab": {
          "base_uri": "https://localhost:8080/",
          "height": 297
        },
        "outputId": "49de3983-247c-49b1-b85d-f384c7ed4f8c"
      },
      "source": [
        "# print data set descriptions and class distributions\n",
        "df.describe()"
      ],
      "execution_count": 5,
      "outputs": [
        {
          "output_type": "execute_result",
          "data": {
            "text/html": [
              "<div>\n",
              "<style scoped>\n",
              "    .dataframe tbody tr th:only-of-type {\n",
              "        vertical-align: middle;\n",
              "    }\n",
              "\n",
              "    .dataframe tbody tr th {\n",
              "        vertical-align: top;\n",
              "    }\n",
              "\n",
              "    .dataframe thead th {\n",
              "        text-align: right;\n",
              "    }\n",
              "</style>\n",
              "<table border=\"1\" class=\"dataframe\">\n",
              "  <thead>\n",
              "    <tr style=\"text-align: right;\">\n",
              "      <th></th>\n",
              "      <th>sepal length (cm)</th>\n",
              "      <th>sepal width (cm)</th>\n",
              "      <th>petal length (cm)</th>\n",
              "      <th>petal width (cm)</th>\n",
              "    </tr>\n",
              "  </thead>\n",
              "  <tbody>\n",
              "    <tr>\n",
              "      <th>count</th>\n",
              "      <td>150.000000</td>\n",
              "      <td>150.000000</td>\n",
              "      <td>150.000000</td>\n",
              "      <td>150.000000</td>\n",
              "    </tr>\n",
              "    <tr>\n",
              "      <th>mean</th>\n",
              "      <td>5.843333</td>\n",
              "      <td>3.057333</td>\n",
              "      <td>3.758000</td>\n",
              "      <td>1.199333</td>\n",
              "    </tr>\n",
              "    <tr>\n",
              "      <th>std</th>\n",
              "      <td>0.828066</td>\n",
              "      <td>0.435866</td>\n",
              "      <td>1.765298</td>\n",
              "      <td>0.762238</td>\n",
              "    </tr>\n",
              "    <tr>\n",
              "      <th>min</th>\n",
              "      <td>4.300000</td>\n",
              "      <td>2.000000</td>\n",
              "      <td>1.000000</td>\n",
              "      <td>0.100000</td>\n",
              "    </tr>\n",
              "    <tr>\n",
              "      <th>25%</th>\n",
              "      <td>5.100000</td>\n",
              "      <td>2.800000</td>\n",
              "      <td>1.600000</td>\n",
              "      <td>0.300000</td>\n",
              "    </tr>\n",
              "    <tr>\n",
              "      <th>50%</th>\n",
              "      <td>5.800000</td>\n",
              "      <td>3.000000</td>\n",
              "      <td>4.350000</td>\n",
              "      <td>1.300000</td>\n",
              "    </tr>\n",
              "    <tr>\n",
              "      <th>75%</th>\n",
              "      <td>6.400000</td>\n",
              "      <td>3.300000</td>\n",
              "      <td>5.100000</td>\n",
              "      <td>1.800000</td>\n",
              "    </tr>\n",
              "    <tr>\n",
              "      <th>max</th>\n",
              "      <td>7.900000</td>\n",
              "      <td>4.400000</td>\n",
              "      <td>6.900000</td>\n",
              "      <td>2.500000</td>\n",
              "    </tr>\n",
              "  </tbody>\n",
              "</table>\n",
              "</div>"
            ],
            "text/plain": [
              "       sepal length (cm)  sepal width (cm)  petal length (cm)  petal width (cm)\n",
              "count         150.000000        150.000000         150.000000        150.000000\n",
              "mean            5.843333          3.057333           3.758000          1.199333\n",
              "std             0.828066          0.435866           1.765298          0.762238\n",
              "min             4.300000          2.000000           1.000000          0.100000\n",
              "25%             5.100000          2.800000           1.600000          0.300000\n",
              "50%             5.800000          3.000000           4.350000          1.300000\n",
              "75%             6.400000          3.300000           5.100000          1.800000\n",
              "max             7.900000          4.400000           6.900000          2.500000"
            ]
          },
          "metadata": {
            "tags": []
          },
          "execution_count": 5
        }
      ]
    },
    {
      "cell_type": "code",
      "metadata": {
        "id": "RhV9cEgr1PCK",
        "colab_type": "code",
        "colab": {
          "base_uri": "https://localhost:8080/",
          "height": 299
        },
        "outputId": "da6d8e2b-c71d-4590-a0ef-4921cbab2f90"
      },
      "source": [
        "# display scatter plot matrix\n",
        "scatter_matrix(df)\n",
        "plt.show()"
      ],
      "execution_count": 6,
      "outputs": [
        {
          "output_type": "display_data",
          "data": {
            "image/png": "[encoded data removed]",
            "text/plain": [
              "<Figure size 432x288 with 16 Axes>"
            ]
          },
          "metadata": {
            "tags": [],
            "needs_background": "light"
          }
        }
      ]
    },
    {
      "cell_type": "markdown",
      "metadata": {
        "id": "OdXbWKPceujn",
        "colab_type": "text"
      },
      "source": [
        "### 3. The Elbow Method\n",
        "\n",
        "In unsupervised learning, we don't always know the number of classes or clusters present in the dataset. For this task, the elbow method is commonly used to determine the appropriate number of clusters for a dataset.  Let's use this method to confirm that three clusters is indeed the optimal value for this dataset. "
      ]
    },
    {
      "cell_type": "code",
      "metadata": {
        "id": "L2nufZ_D1RZY",
        "colab_type": "code",
        "colab": {}
      },
      "source": [
        "# empty x and y data lists\n",
        "X = []\n",
        "Y = []\n",
        "\n",
        "for i in range(1,31):\n",
        "    # initialize and fit the kmeans model \n",
        "    kmeans = KMeans(n_clusters = i)\n",
        "    kmeans.fit(df)\n",
        "    \n",
        "    # append number of clusters to x data list\n",
        "    X.append(i)\n",
        "    \n",
        "    # append average within-cluster sum of squares to y data list\n",
        "    awcss = kmeans.inertia_ / df.shape[0]\n",
        "    Y.append(awcss)"
      ],
      "execution_count": 7,
      "outputs": []
    },
    {
      "cell_type": "code",
      "metadata": {
        "id": "ioOiJrXn1S0V",
        "colab_type": "code",
        "colab": {
          "base_uri": "https://localhost:8080/",
          "height": 295
        },
        "outputId": "6e3d253c-cc2d-499f-ab92-ef57296afe50"
      },
      "source": [
        "# plot the x and y data\n",
        "plt.plot(X,Y, 'bo-')\n",
        "plt.xlim((1, 30))\n",
        "plt.xlabel('Number of Clusters')\n",
        "plt.ylabel('Average Within-Cluster Sum of Squares')\n",
        "plt.title('K-Means Clustering Elbow Method')\n",
        "\n",
        "# display the plot\n",
        "plt.show()"
      ],
      "execution_count": 8,
      "outputs": [
        {
          "output_type": "display_data",
          "data": {
            "image/png": "[encoded data removed]",
            "text/plain": [
              "<Figure size 432x288 with 1 Axes>"
            ]
          },
          "metadata": {
            "tags": [],
            "needs_background": "light"
          }
        }
      ]
    },
    {
      "cell_type": "markdown",
      "metadata": {
        "id": "gdgqwBHwfQ3H",
        "colab_type": "text"
      },
      "source": [
        "### 4. Principle Component Analysis\n",
        "\n",
        "Principal component analysis (PCA) is a statistical procedure that uses an orthogonal transformation to convert a set of observations of possibly correlated variables into a set of values of linearly uncorrelated variables called principal components.\n",
        "\n",
        "Not going into the detailed algebra of PCA, we directly import PCA algorithm provided by sklearn. In the cell below, we will perform a PCA reduction to reduce the number of features in our dataset to two. As a result of this reduction, we will be able to visualize each instance as an X,Y data point."
      ]
    },
    {
      "cell_type": "code",
      "metadata": {
        "id": "S-aLh_5l1UB8",
        "colab_type": "code",
        "colab": {
          "base_uri": "https://localhost:8080/",
          "height": 204
        },
        "outputId": "55925e01-e6a1-4a06-fc3c-8848d7e6a955"
      },
      "source": [
        "from sklearn.decomposition import PCA\n",
        "from sklearn import preprocessing\n",
        "\n",
        "# perform principle component analysis\n",
        "pca = PCA(n_components=2)\n",
        "pc = pca.fit_transform(df)\n",
        "\n",
        "# print new dimensions\n",
        "print (pc.shape)\n",
        "print (pc[:10])"
      ],
      "execution_count": 9,
      "outputs": [
        {
          "output_type": "stream",
          "text": [
            "(150, 2)\n",
            "[[-2.68412563  0.31939725]\n",
            " [-2.71414169 -0.17700123]\n",
            " [-2.88899057 -0.14494943]\n",
            " [-2.74534286 -0.31829898]\n",
            " [-2.72871654  0.32675451]\n",
            " [-2.28085963  0.74133045]\n",
            " [-2.82053775 -0.08946138]\n",
            " [-2.62614497  0.16338496]\n",
            " [-2.88638273 -0.57831175]\n",
            " [-2.6727558  -0.11377425]]\n"
          ],
          "name": "stdout"
        }
      ]
    },
    {
      "cell_type": "code",
      "metadata": {
        "id": "rrsNzvQU1Y4G",
        "colab_type": "code",
        "colab": {
          "base_uri": "https://localhost:8080/",
          "height": 68
        },
        "outputId": "32cad88e-1a59-4d0e-b544-ec10f2026d87"
      },
      "source": [
        "# re-fit kmeans model to principle components with appropriate number of clusters\n",
        "kmeans = KMeans(n_clusters = 3)\n",
        "kmeans.fit(pc)"
      ],
      "execution_count": 10,
      "outputs": [
        {
          "output_type": "execute_result",
          "data": {
            "text/plain": [
              "KMeans(algorithm='auto', copy_x=True, init='k-means++', max_iter=300,\n",
              "       n_clusters=3, n_init=10, n_jobs=None, precompute_distances='auto',\n",
              "       random_state=None, tol=0.0001, verbose=0)"
            ]
          },
          "metadata": {
            "tags": []
          },
          "execution_count": 10
        }
      ]
    },
    {
      "cell_type": "markdown",
      "metadata": {
        "id": "NwbkvEcZfzlg",
        "colab_type": "text"
      },
      "source": [
        "### 5. Visualization of PCA-reduced Data\n",
        "\n",
        "Now that our data has been compressed, we can easily visualize it using matplotlib.pyplot. Furthermore, since our data has only two components, we can predict the appropriate cluster for each X, Y point in our plot and produce a color-coordinated meshgrid to display the different clusters in our K means algorithm."
      ]
    },
    {
      "cell_type": "code",
      "metadata": {
        "id": "OKklI6pe1bR7",
        "colab_type": "code",
        "colab": {
          "base_uri": "https://localhost:8080/",
          "height": 713
        },
        "outputId": "eaeb5794-4304-4cf3-f10c-256987a390b1"
      },
      "source": [
        "# Visualize high dimensional clusters using principle components\n",
        "\n",
        "# set size for the mesh\n",
        "h = 0.02 # determines quality of the mesh [x_min, x_max]x[y_min, y_max]\n",
        "\n",
        "# generate mesh grid\n",
        "x_min, x_max = pc[:, 0].min() - 1, pc[:, 0].max() + 1\n",
        "y_min, y_max = pc[:, 1].min() - 1, pc[:, 1].max() + 1\n",
        "xx, yy = np.meshgrid(np.arange(x_min, x_max, h), np.arange(y_min, y_max, h))\n",
        "\n",
        "# label each point in mesh using last trained model\n",
        "Z = kmeans.predict(np.c_[xx.ravel(), yy.ravel()])\n",
        "\n",
        "# generate color plot from results\n",
        "Z = Z.reshape(xx.shape)\n",
        "plt.figure(figsize = (12, 12))\n",
        "plt.clf()\n",
        "plt.imshow(Z, interpolation = 'nearest',\n",
        "          extent = (xx.min(), xx.max(), yy.min(), yy.max()),\n",
        "          cmap = plt.cm.tab20c,\n",
        "          aspect = 'auto', origin = 'lower')\n",
        "\n",
        "# plot the principle components on the color plot\n",
        "for i, point in enumerate(pc):\n",
        "    if target[i] == 0:\n",
        "        plt.plot(point[0], point[1], 'g.', markersize = 10)\n",
        "    if target[i] == 1:\n",
        "        plt.plot(point[0], point[1], 'r.', markersize = 10)\n",
        "    if target[i] == 2:\n",
        "        plt.plot(point[0], point[1], 'b.', markersize = 10)\n",
        "\n",
        "# plot the cluster centroids\n",
        "centroids = kmeans.cluster_centers_\n",
        "plt.scatter(centroids[:, 0], centroids[:, 1], marker = 'x', s = 250, linewidth = 4,\n",
        "           color = 'w', zorder = 10)\n",
        "\n",
        "# set plot title and axis limits\n",
        "plt.title('K-Means Clustering on PCA-Reduced Iris Data Set')\n",
        "plt.xlim(x_min, x_max)\n",
        "plt.ylim(y_min, y_max)\n",
        "plt.xlabel('PC1')\n",
        "plt.ylabel('PC2')\n",
        "plt.xticks(())\n",
        "plt.yticks(())\n",
        "\n",
        "# display the plot\n",
        "plt.show()"
      ],
      "execution_count": 11,
      "outputs": [
        {
          "output_type": "display_data",
          "data": {
            "image/png": "[encoded data removed]",
            "text/plain": [
              "<Figure size 864x864 with 1 Axes>"
            ]
          },
          "metadata": {
            "tags": []
          }
        }
      ]
    },
    {
      "cell_type": "markdown",
      "metadata": {
        "id": "_HDwWXWuf7q7",
        "colab_type": "text"
      },
      "source": [
        "### 6. Clustering Metrics\n",
        "\n",
        "To analyse the performance of the PCA reduction, we will use some common clustering metrics, such as homogeneity, completeness, and V-measure. \n",
        "\n",
        "* Homogeneity - measures whether or not all of its clusters contain only data points which are members of a single class. \n",
        "* Completeness - measures whether or not all members of a given class are elements of the same cluster\n",
        "* V-measure - the harmonic mean between homogeneity and completeness"
      ]
    },
    {
      "cell_type": "code",
      "metadata": {
        "id": "REMg_iN6d9yF",
        "colab_type": "code",
        "colab": {
          "base_uri": "https://localhost:8080/",
          "height": 153
        },
        "outputId": "bcb46f57-5059-4d8d-9540-d4e4f295b270"
      },
      "source": [
        "# K Means clustering on Non Reduced Data\n",
        "kmeans1 = KMeans(n_clusters = 3)\n",
        "kmeans1.fit(features)\n",
        "\n",
        "# K Means clustering on PCA Reduced Data\n",
        "kmeans2 = KMeans(n_clusters = 3)\n",
        "kmeans2.fit(pc)\n",
        "\n",
        "# print metrics for Non reduced data \n",
        "print('Non Reduced Data')\n",
        "print('Homogeneity: {}'.format(metrics.homogeneity_score(target, kmeans1.labels_)))\n",
        "print('Completeness: {}'.format(metrics.completeness_score(target, kmeans1.labels_)))\n",
        "print('V-measure: {}'.format(metrics.v_measure_score(target, kmeans1.labels_)))\n",
        "\n",
        "# print metrics for PCA reduced data\n",
        "print('Reduced Data')\n",
        "print('Homogeneity: {}'.format(metrics.homogeneity_score(target, kmeans2.labels_)))\n",
        "print('Completeness: {}'.format(metrics.completeness_score(target, kmeans2.labels_)))\n",
        "print('V-measure: {}'.format(metrics.v_measure_score(target, kmeans2.labels_)))"
      ],
      "execution_count": 12,
      "outputs": [
        {
          "output_type": "stream",
          "text": [
            "Non Reduced Data\n",
            "Homogeneity: 0.7514854021988338\n",
            "Completeness: 0.7649861514489815\n",
            "V-measure: 0.7581756800057784\n",
            "Reduced Data\n",
            "Homogeneity: 0.7364192881252849\n",
            "Completeness: 0.7474865805095324\n",
            "V-measure: 0.7419116631817836\n"
          ],
          "name": "stdout"
        }
      ]
    },
    {
      "cell_type": "code",
      "metadata": {
        "id": "h6N_xlGreDT5",
        "colab_type": "code",
        "colab": {
          "base_uri": "https://localhost:8080/",
          "height": 272
        },
        "outputId": "83cf9ce4-d79e-4fbb-bc0a-facee67b71d7"
      },
      "source": [
        "# to compare results further, print out the actual labels\n",
        "print (kmeans1.labels_)\n",
        "print (kmeans2.labels_)\n",
        "print (target)"
      ],
      "execution_count": 13,
      "outputs": [
        {
          "output_type": "stream",
          "text": [
            "[0 0 0 0 0 0 0 0 0 0 0 0 0 0 0 0 0 0 0 0 0 0 0 0 0 0 0 0 0 0 0 0 0 0 0 0 0\n",
            " 0 0 0 0 0 0 0 0 0 0 0 0 0 1 1 2 1 1 1 1 1 1 1 1 1 1 1 1 1 1 1 1 1 1 1 1 1\n",
            " 1 1 1 2 1 1 1 1 1 1 1 1 1 1 1 1 1 1 1 1 1 1 1 1 1 1 2 1 2 2 2 2 1 2 2 2 2\n",
            " 2 2 1 1 2 2 2 2 1 2 1 2 1 2 2 1 1 2 2 2 2 2 1 2 2 2 2 1 2 2 2 1 2 2 2 1 2\n",
            " 2 1]\n",
            "[1 1 1 1 1 1 1 1 1 1 1 1 1 1 1 1 1 1 1 1 1 1 1 1 1 1 1 1 1 1 1 1 1 1 1 1 1\n",
            " 1 1 1 1 1 1 1 1 1 1 1 1 1 2 0 2 0 0 0 0 0 0 0 0 0 0 0 0 0 0 0 0 0 0 0 0 0\n",
            " 0 0 0 2 0 0 0 0 0 0 0 0 0 0 0 0 0 0 0 0 0 0 0 0 0 0 2 0 2 2 2 2 0 2 2 2 2\n",
            " 2 2 0 0 2 2 2 2 0 2 0 2 0 2 2 0 0 2 2 2 2 2 0 2 2 2 2 0 2 2 2 0 2 2 2 0 2\n",
            " 2 0]\n",
            "[0 0 0 0 0 0 0 0 0 0 0 0 0 0 0 0 0 0 0 0 0 0 0 0 0 0 0 0 0 0 0 0 0 0 0 0 0\n",
            " 0 0 0 0 0 0 0 0 0 0 0 0 0 1 1 1 1 1 1 1 1 1 1 1 1 1 1 1 1 1 1 1 1 1 1 1 1\n",
            " 1 1 1 1 1 1 1 1 1 1 1 1 1 1 1 1 1 1 1 1 1 1 1 1 1 1 2 2 2 2 2 2 2 2 2 2 2\n",
            " 2 2 2 2 2 2 2 2 2 2 2 2 2 2 2 2 2 2 2 2 2 2 2 2 2 2 2 2 2 2 2 2 2 2 2 2 2\n",
            " 2 2]\n"
          ],
          "name": "stdout"
        }
      ]
    },
    {
      "cell_type": "code",
      "metadata": {
        "id": "pAZGQWuleDmp",
        "colab_type": "code",
        "colab": {}
      },
      "source": [
        ""
      ],
      "execution_count": 13,
      "outputs": []
    }
  ]
}